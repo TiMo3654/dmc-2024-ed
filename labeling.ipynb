{
 "cells": [
  {
   "cell_type": "code",
   "execution_count": 41,
   "metadata": {},
   "outputs": [],
   "source": [
    "import pandas as pd\n",
    "from nltk.stem import PorterStemmer\n",
    "from nltk.corpus import stopwords"
   ]
  },
  {
   "cell_type": "code",
   "execution_count": 42,
   "metadata": {},
   "outputs": [],
   "source": [
    "df = pd.read_pickle(\"df_mixed.pkl\")"
   ]
  },
  {
   "cell_type": "markdown",
   "metadata": {},
   "source": [
    "Split multi-word keywords into single keywords for more simple labeling (optimization, optimization algorithm, numerical optimization, ... ->)"
   ]
  },
  {
   "cell_type": "code",
   "execution_count": 43,
   "metadata": {},
   "outputs": [],
   "source": [
    "def split_list(keywords : list) -> list:\n",
    "\n",
    "    return [word for phrase in keywords for word in phrase.split()]\n",
    "\n",
    "df['single keys']   = df['keywords'].apply(lambda x: split_list(x))"
   ]
  },
  {
   "cell_type": "markdown",
   "metadata": {},
   "source": [
    "Add the tokenized title for more information about the documents: "
   ]
  },
  {
   "cell_type": "code",
   "execution_count": 44,
   "metadata": {},
   "outputs": [],
   "source": [
    "stop_words   = set(stopwords.words('english'))\n",
    "\n",
    "def split_text(title : str) -> list:\n",
    "\n",
    "    return [word for word in title.split() if word.lower() not in stop_words]\n",
    "\n",
    "\n",
    "df['title split']   = df['title'].apply(lambda x: split_text(x))\n",
    "\n",
    "df['abstract split']   = df['abstract'].apply(lambda x: split_text(x))"
   ]
  },
  {
   "cell_type": "code",
   "execution_count": 45,
   "metadata": {},
   "outputs": [],
   "source": [
    "# Function to merge lists\n",
    "def merge_lists(row):\n",
    "    return row['single keys'] + row['title split'] + row['abstract split']\n",
    "\n",
    "# Apply the function to each row\n",
    "df['all keys'] = df.apply(merge_lists, axis=1)"
   ]
  },
  {
   "cell_type": "markdown",
   "metadata": {},
   "source": [
    "Define rules and stem functions to catch plural, gerund, ....\n",
    "\n",
    "The sequence of  the detailed rules decides the priorization in case of multiple labels."
   ]
  },
  {
   "cell_type": "code",
   "execution_count": 46,
   "metadata": {},
   "outputs": [],
   "source": [
    "rules_paradigm      =   {   'learning'      : {'learning', 'neural', 'artificial', 'intelligence', 'regression', 'prediction', 'ann', 'dnn', 'ffnn', 'rnn', 'agent'}\n",
    "                        ,   'procedure'     : {'procedure', 'strategy', 'script', 'method', 'methodology'}\n",
    "                        ,   'optimization'  : {'algorithm', 'optimizer', 'optimization', 'metaheuristic', 'heuristic'}\n",
    "                        #,   'modeling'      : {'model'}\n",
    "                        }\n",
    "\n",
    "rules_application   =   {   'car'           : {'car', 'hev', 'ev'}\n",
    "                        ,   'aerospace'     : {'aerospace', 'aerial' 'aircraft', 'uav'}\n",
    "                        ,   'battery'       : {'battery', 'lithium', 'ion', 'charging', 'charger'}\n",
    "                        ,   'grid'          : {'grid', 'microgrid'}\n",
    "                        ,   'industry'      : {'industrial', 'industry'}\n",
    "                        ,   'audio'         : {'audio', 'speaker', 'amplifier'}\n",
    "                        ,   'renewables'    : {'solar', 'wind', 'photovoltaic'}\n",
    "                        ,   'drives'        : {'rotor', 'stator', 'drive', 'motor','torque'}\n",
    "                        ,   'inverter'      : {'dc-dc','ac-ac', 'dc-ac', 'ac-dc', 'inverter', 'converter'}\n",
    "                        }\n",
    "\n",
    "rules_lifecycle     =   {   'design'        : {'design', 'model', 'twin', 'optimization', 'procedure', 'methodology', 'analysis'}\n",
    "                        ,   'maintenance'   : {'maintenance', 'condition', 'monitoring', 'life', 'test', 'verification', 'validation', 'anomaly', 'detection', 'identification'}\n",
    "                        ,   'control'       : {'control', 'controller', 'modulation', 'modulator', 'tuning', 'mppt'}\n",
    "                        }\n",
    "\n",
    "rules_components    =   {   'capacitors'    : {'capacitor', 'supercapacitor'}\n",
    "                        ,   'magnetics'     : {'inductor', 'inductance', 'magnetic', 'litz', 'transformer', 'wire', 'winding'}\n",
    "                        ,   'widebandgap'   : {'gallium', 'nitride', 'carbide', 'sic', 'gan', 'wbg', 'gap'}\n",
    "                        ,   'semiconductors': {'silicon', 'transistor', 'mosfet', 'diode', 'switch', 'multichip', 'multi-chip'}             \n",
    "                        ,   'machinery'     : {'motor', 'generator', 'rotor', 'stator'}\n",
    "                        ,   'cooling'       : {'cooling', 'heat', 'sink' 'pipe', 'fan', 'fin'}\n",
    "                        }\n",
    "\n",
    "rules_task           =  {   'selection'     : {'component', 'selection', 'choice'}\n",
    "                        ,   'implementation': {'layout', 'physical', 'placement', 'routing'}\n",
    "                        ,   'concept'       : {'concept', 'topology'}\n",
    "                        ,   'integration'   : {'integration', 'co-design'}\n",
    "                        ,   'control'       : {'control', 'controller', 'tuning', 'modulation'}\n",
    "                        ,   'modeling'      : {'model', 'twin', 'surrogate'}\n",
    "                        }\n"
   ]
  },
  {
   "cell_type": "markdown",
   "metadata": {},
   "source": [
    "Rules for more detailed classification"
   ]
  },
  {
   "cell_type": "code",
   "execution_count": 47,
   "metadata": {},
   "outputs": [],
   "source": [
    "rules_topology      =   {   'dc-dc'         : {'dc-dc', 'dcdc', 'dc/dc'}\n",
    "                        ,   'ac-ac'         : {'ac-ac', 'acac', 'ac/ac'}\n",
    "                        ,   'dc-ac'         : {'dc-ac', 'dcac', 'dc/ac'}\n",
    "                        ,   'ac-dc'         : {'ac-dc', 'acdc', 'ac/dc'}\n",
    "                        ,   'resonant'      : {'resonant', 'resonance', 'llc', 'cllc'}\n",
    "                        ,   'isolated'      : {'isolated', 'galvanic'}\n",
    "                        ,   'multi-level'   : {'multi', 'level'}\n",
    "                        ,   'interleaved'   : {'interleaved'}\n",
    "                        }\n",
    "\n",
    "rules_algorithm     =   {   'genetic'       : {'genetic'}\n",
    "                        ,   'diffEvolution' : {'differential', 'evolution'}\n",
    "                        ,   'pso'           : {'particle', 'swarm'}\n",
    "                        ,   'gradient'      : {'gradient', 'adam', 'sgd'}\n",
    "                        ,   'annealing'     : {'annealing'}\n",
    "                        ,   'whale'         : {'whale'}\n",
    "                        ,   'ant'           : {'ant'}\n",
    "                        ,   'wolf'          : {'wolve', 'wolf'}\n",
    "                        ,   'simplex'       : {'simplex', 'nelder-mead', 'fmin'}\n",
    "                        ,   'newton'        : {'newton', 'bfgs'}\n",
    "                        ,   'combinatorial' : {'combinatorial', 'branch'}\n",
    "                        ,   'bayesian'      : {'bayes', 'bayesian'}\n",
    "                        }\n",
    "\n",
    "rules_ml            =   {   'unsupervised'  : {'clustering', 'pca', 'unsupervised'}\n",
    "                        ,   'supervised'    : {'regression', 'classification', 'supervised', 'neural'}\n",
    "                        ,   'reinforcement' : {'reinforcement', 'agent'}\n",
    "                        }"
   ]
  },
  {
   "cell_type": "code",
   "execution_count": 48,
   "metadata": {},
   "outputs": [],
   "source": [
    "# Initialize the stemmer\n",
    "stemmer = PorterStemmer()\n",
    "\n",
    "# Function to stem keywords\n",
    "def stem_keywords(keywords):\n",
    "    return [stemmer.stem(word) for word in keywords]\n",
    "\n",
    "# Function to assign labels based on rules\n",
    "def assign_label(keywords, rules, extension : str):\n",
    "    labels = list()\n",
    "    stemmed_keywords = stem_keywords(keywords)\n",
    "    for label, keywords_set in rules.items():\n",
    "        stemmed_keywords_set = {stemmer.stem(word) for word in keywords_set}\n",
    "        if any(keyword in stemmed_keywords_set for keyword in stemmed_keywords):\n",
    "            labels.append(label)\n",
    "    return ','.join(labels) if labels else 'unknown' + '_' + extension\n"
   ]
  },
  {
   "cell_type": "markdown",
   "metadata": {},
   "source": [
    "Perform the rule based labeling"
   ]
  },
  {
   "cell_type": "code",
   "execution_count": 49,
   "metadata": {},
   "outputs": [],
   "source": [
    "#df['paradigm'] = df['single keys'].apply(lambda x: assign_label(x, rules_paradigm))"
   ]
  },
  {
   "cell_type": "code",
   "execution_count": 50,
   "metadata": {},
   "outputs": [],
   "source": [
    "ruleset     =   [ ('paradigm'   , rules_paradigm)\n",
    "                , ('application', rules_application)\n",
    "                , ('components' , rules_components)\n",
    "                , ('life_cycle' , rules_lifecycle)\n",
    "                , ('task'       , rules_task)\n",
    "                , ('algorithm'  , rules_algorithm)\n",
    "                , ('ml_method'  , rules_ml)\n",
    "                ]\n",
    "\n",
    "\n",
    "for column, rule in ruleset:\n",
    "\n",
    "    df[column] = df['all keys'].apply(lambda x: assign_label(x, rule, column))"
   ]
  },
  {
   "cell_type": "code",
   "execution_count": 51,
   "metadata": {},
   "outputs": [],
   "source": [
    "#df.to_pickle('new_df_labled_with_tasks_and_tpe_and_algos.pkl')"
   ]
  },
  {
   "cell_type": "code",
   "execution_count": 52,
   "metadata": {},
   "outputs": [],
   "source": [
    "df.to_pickle('df_with_abstracts.pkl')"
   ]
  }
 ],
 "metadata": {
  "kernelspec": {
   "display_name": "ape",
   "language": "python",
   "name": "python3"
  },
  "language_info": {
   "codemirror_mode": {
    "name": "ipython",
    "version": 3
   },
   "file_extension": ".py",
   "mimetype": "text/x-python",
   "name": "python",
   "nbconvert_exporter": "python",
   "pygments_lexer": "ipython3",
   "version": "3.10.11"
  }
 },
 "nbformat": 4,
 "nbformat_minor": 2
}
